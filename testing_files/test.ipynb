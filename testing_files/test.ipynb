{
 "cells": [
  {
   "cell_type": "code",
   "execution_count": 1,
   "metadata": {},
   "outputs": [],
   "source": [
    "# simRemoteApi.start(19999)\n",
    "try:\n",
    "    import sim\n",
    "except:\n",
    "    print ('--------------------------------------------------------------')\n",
    "    print ('\"sim.py\" could not be imported. This means very probably that')\n",
    "    print ('either \"sim.py\" or the remoteApi library could not be found.')\n",
    "    print ('Make sure both are in the same folder as this file,')\n",
    "    print ('or appropriately adjust the file \"sim.py\"')\n",
    "    print ('--------------------------------------------------------------')\n",
    "    print ('')\n",
    "\n",
    "import time\n",
    "import random"
   ]
  },
  {
   "cell_type": "code",
   "execution_count": 7,
   "metadata": {},
   "outputs": [
    {
     "name": "stdout",
     "output_type": "stream",
     "text": [
      "Simulation started successfully\n"
     ]
    }
   ],
   "source": [
    "startClientID = sim.simxStart('127.0.0.1', 19997, True, False, 5000, 5)\n",
    "res = sim.simxStartSimulation(startClientID, sim.simx_opmode_blocking)\n",
    "if res == sim.simx_return_ok:\n",
    "    print('Simulation started successfully')"
   ]
  },
  {
   "cell_type": "code",
   "execution_count": 4,
   "metadata": {},
   "outputs": [],
   "source": [
    "res = sim.simxStopSimulation(startClientID, sim.simx_opmode_blocking)\n",
    "if res == sim.simx_return_ok:\n",
    "    print('Stop signal sent')\n",
    "sim.simxFinish(startClientID)"
   ]
  },
  {
   "cell_type": "code",
   "execution_count": 5,
   "metadata": {},
   "outputs": [
    {
     "name": "stdout",
     "output_type": "stream",
     "text": [
      "Program started\n"
     ]
    }
   ],
   "source": [
    "sim.simxFinish(-1)\n",
    "print ('Program started')\n",
    "sim.simxFinish(-1) # just in case, close all opened connections\n",
    "clientID=sim.simxStart('127.0.0.1',19999,True,True,5000,5) # Connect to CoppeliaSim\n",
    "if clientID!=-1:\n",
    "    print ('Connected to remote API server')"
   ]
  },
  {
   "cell_type": "code",
   "execution_count": 8,
   "metadata": {},
   "outputs": [
    {
     "name": "stdout",
     "output_type": "stream",
     "text": [
      "1\n"
     ]
    }
   ],
   "source": [
    "res = sim.simxStartSimulation(clientID, sim.simx_opmode_oneshot)\n",
    "print(res)"
   ]
  },
  {
   "cell_type": "code",
   "execution_count": 11,
   "metadata": {},
   "outputs": [
    {
     "name": "stdout",
     "output_type": "stream",
     "text": [
      "Robot: 64\n",
      " Target:64\n"
     ]
    }
   ],
   "source": [
    "robotname = 'Doggy'\n",
    "robotErro, robot = sim.simxGetObjectHandle(clientID, robotname, sim.simx_opmode_oneshot_wait)\n",
    "targetErro, target = sim.simxGetObjectHandle(clientID, \"Target\", sim.simx_opmode_oneshot_wait)\n",
    "print(f\"Robot: {robotErro}\\n Target:{targetErro}\")"
   ]
  },
  {
   "cell_type": "code",
   "execution_count": 12,
   "metadata": {},
   "outputs": [
    {
     "data": {
      "text/plain": [
       "64"
      ]
     },
     "execution_count": 12,
     "metadata": {},
     "output_type": "execute_result"
    }
   ],
   "source": [
    "[erro, robot_RR_upper_motor] = sim.simxGetObjectHandle(clientID, \"RR_upper_leg_joint\",sim.simx_opmode_oneshot_wait)\n",
    "[erro, robot_RR_lower_motor] = sim.simxGetObjectHandle(clientID, \"RR_lower_leg_joint\", sim.simx_opmode_oneshot_wait)\n",
    "    \n",
    "[erro, robot_RL_upper_motor] = sim.simxGetObjectHandle(clientID, \"RL_upper_leg_joint\",sim.simx_opmode_oneshot_wait)\n",
    "[erro, robot_RL_lower_motor] = sim.simxGetObjectHandle(clientID, \"RL_lower_leg_joint\", sim.simx_opmode_oneshot_wait)\n",
    "\n",
    "[erro, robot_FR_upper_motor] = sim.simxGetObjectHandle(clientID, \"FR_upper_leg_joint\",sim.simx_opmode_oneshot_wait)\n",
    "[erro, robot_FR_lower_motor] = sim.simxGetObjectHandle(clientID, \"FR_lower_leg_joint\", sim.simx_opmode_oneshot_wait)\n",
    "\n",
    "[erro, robot_FL_upper_motor] = sim.simxGetObjectHandle(clientID, \"FL_upper_leg_joint\",sim.simx_opmode_oneshot_wait)\n",
    "[erro, robot_FL_lower_motor] = sim.simxGetObjectHandle(clientID, \"FL_lower_leg_joint\", sim.simx_opmode_oneshot_wait)\n",
    "\n",
    "sim.simxSetJointTargetVelocity(clientID, robot_RR_upper_motor, random.random()-0.5, sim.simx_opmode_oneshot)\n",
    "sim.simxSetJointTargetVelocity(clientID, robot_RR_lower_motor, random.random()-0.5, sim.simx_opmode_oneshot)\n",
    "\n",
    "sim.simxSetJointTargetVelocity(clientID, robot_RL_upper_motor, random.random()-0.5, sim.simx_opmode_oneshot)\n",
    "sim.simxSetJointTargetVelocity(clientID, robot_RL_lower_motor, random.random()-0.5, sim.simx_opmode_oneshot)\n",
    "\n",
    "sim.simxSetJointTargetVelocity(clientID, robot_FR_upper_motor, random.random()-0.5, sim.simx_opmode_oneshot)\n",
    "sim.simxSetJointTargetVelocity(clientID, robot_FR_lower_motor, random.random()-0.5, sim.simx_opmode_oneshot)\n",
    "\n",
    "sim.simxSetJointTargetVelocity(clientID, robot_FL_upper_motor, random.random()-0.5, sim.simx_opmode_oneshot)\n",
    "sim.simxSetJointTargetVelocity(clientID, robot_FL_lower_motor, random.random()-0.5, sim.simx_opmode_oneshot)\n"
   ]
  },
  {
   "cell_type": "code",
   "execution_count": 10,
   "metadata": {},
   "outputs": [
    {
     "name": "stdout",
     "output_type": "stream",
     "text": [
      "[0.0, 0.0, 0.0]\n"
     ]
    }
   ],
   "source": [
    "erro, distance_vector = sim.simxGetObjectPosition(clientID,robot,target,sim.simx_opmode_oneshot_wait)\n",
    "print(distance_vector)"
   ]
  },
  {
   "cell_type": "markdown",
   "metadata": {},
   "source": [
    "# Neural network\n",
    "\n",
    "### Inputs: \n",
    "Velocidades e posições das 8 juntas - 16 inputs\n",
    "\n",
    "## Outputs:\n",
    "Novas velocidades para cada uma das 8 juntas - 8 outputs"
   ]
  },
  {
   "cell_type": "markdown",
   "metadata": {},
   "source": []
  },
  {
   "cell_type": "markdown",
   "metadata": {},
   "source": [
    "for epoch in range epochs:\n",
    "\n",
    "    model.train()\n",
    "    y_pred = model(x_train)\n",
    "    loss = loss_fn(y_pred,y_train)\n",
    "    optimizer.zero_grad()\n",
    "    loss.backward()\n",
    "    optimizer.step()\n",
    "    model.eval()\n"
   ]
  },
  {
   "cell_type": "code",
   "execution_count": 5,
   "metadata": {},
   "outputs": [
    {
     "data": {
      "text/plain": [
       "PosixPath('models/nome_do_modelo.pth')"
      ]
     },
     "execution_count": 5,
     "metadata": {},
     "output_type": "execute_result"
    }
   ],
   "source": [
    "from pathlib import Path\n",
    "\n",
    "MODEL_PATH = Path(\"models\")\n",
    "MODEL_PATH.mkdir(parents=True,exist_ok=True)\n",
    "\n",
    "MODEL_NAME = \"nome_do_modelo.pth\"\n",
    "MODEL_SAVE_PATH = MODEL_PATH/MODEL_NAME\n",
    "\n",
    "print(f\"Saving model to: {MODEL_SAVE_PATH}\")\n",
    "torch.save(obj=model.state_dict(),f=MODEL_SAVE_PATH)"
   ]
  },
  {
   "cell_type": "code",
   "execution_count": 8,
   "metadata": {},
   "outputs": [],
   "source": [
    "import torch\n",
    "from torch import nn\n",
    "import matplotlib.pyplot as plt\n"
   ]
  },
  {
   "cell_type": "code",
   "execution_count": 9,
   "metadata": {},
   "outputs": [
    {
     "name": "stdout",
     "output_type": "stream",
     "text": [
      "Using device: cuda\n"
     ]
    }
   ],
   "source": [
    "device = \"cuda\" if torch.cuda.is_available() else \"cpu\"\n",
    "print(f\"Using device: {device}\")"
   ]
  },
  {
   "cell_type": "code",
   "execution_count": 19,
   "metadata": {},
   "outputs": [
    {
     "data": {
      "text/plain": [
       "(tensor([[0.0000],\n",
       "         [0.0200],\n",
       "         [0.0400],\n",
       "         [0.0600],\n",
       "         [0.0800],\n",
       "         [0.1000],\n",
       "         [0.1200],\n",
       "         [0.1400],\n",
       "         [0.1600],\n",
       "         [0.1800]]),\n",
       " tensor([[0.3000],\n",
       "         [0.3140],\n",
       "         [0.3280],\n",
       "         [0.3420],\n",
       "         [0.3560],\n",
       "         [0.3700],\n",
       "         [0.3840],\n",
       "         [0.3980],\n",
       "         [0.4120],\n",
       "         [0.4260]]))"
      ]
     },
     "execution_count": 19,
     "metadata": {},
     "output_type": "execute_result"
    }
   ],
   "source": [
    "weight = 0.7\n",
    "bias = 0.3\n",
    "\n",
    "start = 0\n",
    "end = 1\n",
    "step = 0.02\n",
    "\n",
    "x = torch.arange(start,end,step).unsqueeze(dim=1)\n",
    "y = weight*x+bias\n",
    "\n",
    "x[:10],y[:10]\n"
   ]
  },
  {
   "cell_type": "code",
   "execution_count": 20,
   "metadata": {},
   "outputs": [
    {
     "data": {
      "text/plain": [
       "40"
      ]
     },
     "execution_count": 20,
     "metadata": {},
     "output_type": "execute_result"
    }
   ],
   "source": [
    "#Split data\n",
    "train_split = int(0.8*len(x))\n",
    "x_train,y_train = x[:train_split],y[:train_split]\n",
    "x_test,y_test = x[train_split:],y[train_split:]"
   ]
  },
  {
   "cell_type": "code",
   "execution_count": 21,
   "metadata": {},
   "outputs": [],
   "source": [
    "def plot_predicitions(train_data = x_train,\n",
    "                      train_labels=y_train,\n",
    "                      test_data = x_test,\n",
    "                      test_labels = y_test,\n",
    "                      predictions = None):\n",
    "    plt.figure(figsize=(10,7))\n",
    "\n",
    "    plt.scatter(train_data,train_labels,c=\"b\",s=4,label=\"Training data\")\n",
    "    plt.scatter(test_data,test_labels,c=\"g\",s=4,label=\"Testing data\")\n",
    "\n",
    "    if predictions is not None:\n",
    "        plt.scatter(test_data,predictions,c=\"r\",s=4,label=\"Predictions\")\n",
    "    plt.legend(prop={\"size\":14})"
   ]
  },
  {
   "cell_type": "code",
   "execution_count": 25,
   "metadata": {},
   "outputs": [],
   "source": [
    "class LinearRegressionModelV0(nn.Module):\n",
    "    def __init__(self):\n",
    "        super().__init__()\n",
    "        self.linear_layer = nn.Linear(in_features=1,\n",
    "                                      out_features=1)\n",
    "    def forward(self,x:torch.Tensor) -> torch.Tensor:\n",
    "        return self.linear_layer(x)"
   ]
  },
  {
   "cell_type": "code",
   "execution_count": 26,
   "metadata": {},
   "outputs": [
    {
     "data": {
      "text/plain": [
       "(LinearRegressionModelV0(\n",
       "   (linear_layer): Linear(in_features=1, out_features=1, bias=True)\n",
       " ),\n",
       " OrderedDict([('linear_layer.weight', tensor([[0.7645]])),\n",
       "              ('linear_layer.bias', tensor([0.8300]))]))"
      ]
     },
     "execution_count": 26,
     "metadata": {},
     "output_type": "execute_result"
    }
   ],
   "source": [
    "torch.manual_seed(42)\n",
    "model_1 = LinearRegressionModelV0()\n",
    "model_1,model_1.state_dict()"
   ]
  },
  {
   "cell_type": "code",
   "execution_count": 1,
   "metadata": {},
   "outputs": [
    {
     "data": {
      "text/plain": [
       "array([0, 1, 2])"
      ]
     },
     "execution_count": 1,
     "metadata": {},
     "output_type": "execute_result"
    }
   ],
   "source": [
    "import numpy as np\n",
    "np.arange(0,0+3)"
   ]
  },
  {
   "cell_type": "code",
   "execution_count": 2,
   "metadata": {},
   "outputs": [
    {
     "data": {
      "text/plain": [
       "array([58, 99, 35, 55, 61, 29,  2, 10,  4, 16])"
      ]
     },
     "execution_count": 2,
     "metadata": {},
     "output_type": "execute_result"
    }
   ],
   "source": [
    "np.random.choice(100, 10, replace=False)"
   ]
  },
  {
   "cell_type": "code",
   "execution_count": 5,
   "metadata": {},
   "outputs": [
    {
     "name": "stdout",
     "output_type": "stream",
     "text": [
      "Tensor modificado:\n",
      " [[0.         0.         0.         ... 0.         0.         0.        ]\n",
      " [0.07348694 0.270696   0.58042041 ... 0.04785368 0.14602785 0.0344438 ]\n",
      " [0.         0.         0.         ... 0.         0.         0.        ]\n",
      " ...\n",
      " [0.58109919 0.77072447 0.69082275 ... 0.958781   0.97614551 0.50475656]\n",
      " [0.54673482 0.95409053 0.12827211 ... 0.53003334 0.27557144 0.34095304]\n",
      " [0.09063041 0.07766533 0.38603696 ... 0.78753368 0.94578352 0.4199863 ]]\n"
     ]
    }
   ],
   "source": [
    "import numpy as np\n",
    "import torch\n",
    "\n",
    "# Criando tensores de exemplo\n",
    "torch.manual_seed(42)\n",
    "tensor_100x24 = np.random.rand(100, 24)  # Exemplo com valores aleatórios\n",
    "tensor_100x1 = np.random.choice([False, True], size=(100, 1))  # Valores aleatórios True/False\n",
    "\n",
    "# Criando a linha de zeros\n",
    "linha_zeros = np.zeros((1, 24))\n",
    "\n",
    "# Modificando as linhas onde tensor_100x1 é True\n",
    "tensor_100x24[tensor_100x1.flatten()] = linha_zeros\n",
    "\n",
    "# Exibir resultados\n",
    "print(\"Tensor modificado:\\n\", tensor_100x24)"
   ]
  },
  {
   "cell_type": "code",
   "execution_count": 27,
   "metadata": {},
   "outputs": [
    {
     "name": "stdout",
     "output_type": "stream",
     "text": [
      "Q real antes mudança: tensor([[1., 2., 3., 4., 5., 6.],\n",
      "        [0., 1., 2., 3., 4., 5.]])\n",
      "Q real pós mudança: tensor([[ 1.0000, 20.0000, 20.0000,  4.0000, 20.0000,  6.0000],\n",
      "        [15.4000,  1.0000, 15.4000,  3.0000,  4.0000, 15.4000]])\n",
      "Action batch: tensor([[1, 2, 4],\n",
      "        [0, 2, 5]])\n",
      "Reward batch: tensor([[20],\n",
      "        [10]])\n",
      "Q eval: tensor([[1., 2., 3., 4., 5., 6.],\n",
      "        [0., 1., 2., 3., 4., 5.]])\n",
      "Q real: tensor([[ 1.0000, 20.0000, 20.0000,  4.0000, 20.0000,  6.0000],\n",
      "        [15.4000,  1.0000, 15.4000,  3.0000,  4.0000, 15.4000]])\n",
      "Terminal batch: tensor([ True, False])\n",
      "Q next: tensor([[ 0.,  0.,  0.,  0.,  0.,  0.],\n",
      "        [ 0.,  2.,  4.,  6.,  8., 10.]])\n",
      "Q next actions: tensor([[0, 2, 5],\n",
      "        [1, 3, 5]])\n",
      "Q next mean reward: tensor([0., 6.])\n",
      "q target: tensor([[20.0000],\n",
      "        [15.4000]])\n",
      "q_real atualizado:\n",
      " tensor([[ 1.0000, 20.0000, 20.0000,  4.0000, 20.0000,  6.0000],\n",
      "        [15.4000,  1.0000, 15.4000,  3.0000,  4.0000, 15.4000]])\n"
     ]
    }
   ],
   "source": [
    "import torch\n",
    "\n",
    "# Definição das variáveis\n",
    "action_batch = torch.tensor([[1, 2, 4], [0, 2, 5]])\n",
    "reward_batch = torch.tensor([[20], [10]])\n",
    "gamma = 0.9\n",
    "        \n",
    "q_eval = torch.tensor([[1, 2, 3, 4, 5, 6], [0, 1, 2, 3, 4, 5]],dtype=torch.float32)\n",
    "\n",
    "q_real = torch.clone(q_eval)\n",
    "\n",
    "q_next = torch.tensor([[2, 4, 6, 8, 10, 12], [0, 2, 4, 6, 8, 10]])\n",
    "terminal_batch = torch.tensor([True, False])\n",
    "\n",
    "# Corrigindo a substituição de valores em q_next\n",
    "linha_zeros = torch.zeros((1, 6),dtype=torch.long)  # Mudando para tensor PyTorch\n",
    "q_next[terminal_batch.flatten()] = linha_zeros\n",
    "\n",
    "q_next_actions = torch.tensor([[0, 2, 5], [1, 3, 5]])\n",
    "\n",
    "q_next = q_next.float()  # Converte para float\n",
    "q_next_mean_reward = torch.mean(torch.gather(q_next, 1, q_next_actions), dim=1)\n",
    "\n",
    "\n",
    "# Calculando o alvo de Q\n",
    "q_target = reward_batch + gamma * q_next_mean_reward.unsqueeze(1)  # Garantindo a forma correta\n",
    "\n",
    "# Corrigindo indexação\n",
    "rows = torch.arange(2).unsqueeze(1)  # Agora é um tensor PyTorch\n",
    "print(f\"Q real antes mudança: {q_real}\")\n",
    "q_real[rows, action_batch] = q_target\n",
    "print(f\"Q real pós mudança: {q_real}\")\n",
    "\n",
    "\n",
    "print(f\"Action batch: {action_batch}\")\n",
    "print(f\"Reward batch: {reward_batch}\")\n",
    "print(f\"Q eval: {q_eval}\")\n",
    "print(f\"Q real: {q_real}\")\n",
    "print(f\"Terminal batch: {terminal_batch}\")\n",
    "print(f\"Q next: {q_next}\")\n",
    "print(f\"Q next actions: {q_next_actions}\")\n",
    "print(f\"Q next mean reward: {q_next_mean_reward}\")\n",
    "print(f\"q target: {q_target}\")\n",
    "\n",
    "\n",
    "\n",
    "\n",
    "\n",
    "print(\"q_real atualizado:\\n\", q_real)\n"
   ]
  },
  {
   "cell_type": "code",
   "execution_count": 36,
   "metadata": {},
   "outputs": [
    {
     "name": "stdout",
     "output_type": "stream",
     "text": [
      "7\n"
     ]
    }
   ],
   "source": [
    "import torch\n",
    "\n",
    "tensor = torch.tensor([1, 2, 3, 2, 3, 4, 1, 5, 2])\n",
    "index = torch.argmax(tensor).item()\n",
    "print(index)\n"
   ]
  },
  {
   "cell_type": "code",
   "execution_count": 38,
   "metadata": {},
   "outputs": [
    {
     "name": "stdout",
     "output_type": "stream",
     "text": [
      "Numero passado: 2\n",
      "Numero passado: 0\n",
      "Numero passado: 1\n",
      "Numero passado: 1\n",
      "Numero passado: 0\n",
      "Numero passado: 0\n",
      "Numero passado: 1\n",
      "Numero passado: 0\n"
     ]
    }
   ],
   "source": [
    "import torch\n",
    "\n",
    "jointHandler = {\"j1\": 1,\n",
    "                 \"j2\": 2,\n",
    "                 \"j3\": 3,\n",
    "                 \"j4\": 4,\n",
    "                 \"j5\": 5,\n",
    "                 \"j6\": 6,\n",
    "                 \"j7\": 7,\n",
    "                 \"j8\": 8,}\n",
    "t = torch.tensor([ 2,  3,  7, 10, 12, 15, 19, 21])\n",
    "for joint_index, joint in enumerate(jointHandler.values()):\n",
    "        print(f\"Numero passado: {t[joint_index]-3*joint_index}\")\n",
    "\n",
    "\n",
    "\n"
   ]
  },
  {
   "cell_type": "code",
   "execution_count": 2,
   "metadata": {},
   "outputs": [
    {
     "name": "stdout",
     "output_type": "stream",
     "text": [
      "tensor([2.8685, 0.7801, 0.9707])\n"
     ]
    }
   ],
   "source": [
    "import torch\n",
    "\n",
    "test = torch.tensor([ 2.5200e+01, -6.5493e-01,  2.5751e-01, -1.4703e+00, -1.6603e+00,\n",
    "         6.7469e-01,  3.1171e+00,  5.3616e-01,  2.9093e-04,  5.9609e-01,\n",
    "        -1.4699e-03,  1.7188e+00, -6.5884e-01, -2.3517e+00, -2.2441e-01,\n",
    "         1.4108e+00, -2.3054e+00, -2.6023e-01,  2.8685e+00,  7.8008e-01,\n",
    "         9.7075e-01])\n",
    "\n",
    "group = test[18:21+3]\n",
    "\n",
    "print(group)"
   ]
  },
  {
   "cell_type": "code",
   "execution_count": 1,
   "metadata": {},
   "outputs": [
    {
     "data": {
      "text/plain": [
       "[0, 0, 0, 0, 0, 0, 0, 0, 0, 0, 0, 0, 0, 0, 0, 0, 0, 0, 0, 0, 0, 0, 0, 0]"
      ]
     },
     "execution_count": 1,
     "metadata": {},
     "output_type": "execute_result"
    }
   ],
   "source": [
    "[0]*24"
   ]
  },
  {
   "cell_type": "code",
   "execution_count": 4,
   "metadata": {},
   "outputs": [
    {
     "name": "stdout",
     "output_type": "stream",
     "text": [
      "tensor([0.2253, 0.5000, 0.6381, 0.8461, 0.5591, 0.3515, 0.6236, 0.2154, 0.0032,\n",
      "        0.2356, 0.3536, 0.1499, 0.7128, 0.7189, 0.4946, 0.5133, 0.3406, 0.4193,\n",
      "        0.9746, 0.1047, 0.9454, 0.9802, 0.4151, 0.7260])\n",
      "tensor([0.8461, 0.5591, 0.3515])\n",
      "tensor([2, 0, 0, 1, 1, 0, 0, 0])\n"
     ]
    }
   ],
   "source": [
    "import torch\n",
    "tensor = torch.rand(24)  # Números aleatórios entre 0 e 1\n",
    "print(tensor)\n",
    "# Reformulando o tensor para ter forma (8,3), ou seja, 8 grupos de 3 elementos\n",
    "\n",
    "\n",
    "tensor_reshaped = tensor.view(-1, 3)\n",
    "print(tensor_reshaped[1])\n",
    "# Pegando o índice do maior valor dentro de cada grupo\n",
    "max_indices = torch.argmax(tensor_reshaped, dim=1)\n",
    "print(max_indices)"
   ]
  },
  {
   "cell_type": "code",
   "execution_count": 2,
   "metadata": {},
   "outputs": [
    {
     "name": "stdout",
     "output_type": "stream",
     "text": [
      "0.14400000000000002\n",
      "0.162\n"
     ]
    }
   ],
   "source": [
    "t = 16*3.6\n",
    "o = 18*3.6\n",
    "d = 400\n",
    "temp = t/d\n",
    "temp2 = o/d\n",
    "\n",
    "print(temp)\n",
    "print(temp2)"
   ]
  },
  {
   "cell_type": "code",
   "execution_count": 2,
   "metadata": {},
   "outputs": [
    {
     "data": {
      "text/plain": [
       "array([0, 1, 2, 3, 4, 5, 6, 7, 8, 9])"
      ]
     },
     "execution_count": 2,
     "metadata": {},
     "output_type": "execute_result"
    }
   ],
   "source": [
    "import numpy as np\n",
    "\n",
    "np.arange(10)"
   ]
  },
  {
   "cell_type": "code",
   "execution_count": null,
   "metadata": {},
   "outputs": [],
   "source": []
  }
 ],
 "metadata": {
  "kernelspec": {
   "display_name": "env",
   "language": "python",
   "name": "python3"
  },
  "language_info": {
   "codemirror_mode": {
    "name": "ipython",
    "version": 3
   },
   "file_extension": ".py",
   "mimetype": "text/x-python",
   "name": "python",
   "nbconvert_exporter": "python",
   "pygments_lexer": "ipython3",
   "version": "3.12.3"
  }
 },
 "nbformat": 4,
 "nbformat_minor": 2
}
