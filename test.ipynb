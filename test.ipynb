{
 "cells": [
  {
   "cell_type": "code",
   "execution_count": 1,
   "metadata": {},
   "outputs": [],
   "source": [
    "# simRemoteApi.start(19999)\n",
    "try:\n",
    "    import sim\n",
    "except:\n",
    "    print ('--------------------------------------------------------------')\n",
    "    print ('\"sim.py\" could not be imported. This means very probably that')\n",
    "    print ('either \"sim.py\" or the remoteApi library could not be found.')\n",
    "    print ('Make sure both are in the same folder as this file,')\n",
    "    print ('or appropriately adjust the file \"sim.py\"')\n",
    "    print ('--------------------------------------------------------------')\n",
    "    print ('')\n",
    "\n",
    "import time\n",
    "import random"
   ]
  },
  {
   "cell_type": "code",
   "execution_count": 7,
   "metadata": {},
   "outputs": [
    {
     "name": "stdout",
     "output_type": "stream",
     "text": [
      "Simulation started successfully\n"
     ]
    }
   ],
   "source": [
    "startClientID = sim.simxStart('127.0.0.1', 19997, True, False, 5000, 5)\n",
    "res = sim.simxStartSimulation(startClientID, sim.simx_opmode_blocking)\n",
    "if res == sim.simx_return_ok:\n",
    "    print('Simulation started successfully')"
   ]
  },
  {
   "cell_type": "code",
   "execution_count": 4,
   "metadata": {},
   "outputs": [],
   "source": [
    "res = sim.simxStopSimulation(startClientID, sim.simx_opmode_blocking)\n",
    "if res == sim.simx_return_ok:\n",
    "    print('Stop signal sent')\n",
    "sim.simxFinish(startClientID)"
   ]
  },
  {
   "cell_type": "code",
   "execution_count": 5,
   "metadata": {},
   "outputs": [
    {
     "name": "stdout",
     "output_type": "stream",
     "text": [
      "Program started\n"
     ]
    }
   ],
   "source": [
    "sim.simxFinish(-1)\n",
    "print ('Program started')\n",
    "sim.simxFinish(-1) # just in case, close all opened connections\n",
    "clientID=sim.simxStart('127.0.0.1',19999,True,True,5000,5) # Connect to CoppeliaSim\n",
    "if clientID!=-1:\n",
    "    print ('Connected to remote API server')"
   ]
  },
  {
   "cell_type": "code",
   "execution_count": 8,
   "metadata": {},
   "outputs": [
    {
     "name": "stdout",
     "output_type": "stream",
     "text": [
      "1\n"
     ]
    }
   ],
   "source": [
    "res = sim.simxStartSimulation(clientID, sim.simx_opmode_oneshot)\n",
    "print(res)"
   ]
  },
  {
   "cell_type": "code",
   "execution_count": 11,
   "metadata": {},
   "outputs": [
    {
     "name": "stdout",
     "output_type": "stream",
     "text": [
      "Robot: 64\n",
      " Target:64\n"
     ]
    }
   ],
   "source": [
    "robotname = 'Doggy'\n",
    "robotErro, robot = sim.simxGetObjectHandle(clientID, robotname, sim.simx_opmode_oneshot_wait)\n",
    "targetErro, target = sim.simxGetObjectHandle(clientID, \"Target\", sim.simx_opmode_oneshot_wait)\n",
    "print(f\"Robot: {robotErro}\\n Target:{targetErro}\")"
   ]
  },
  {
   "cell_type": "code",
   "execution_count": 12,
   "metadata": {},
   "outputs": [
    {
     "data": {
      "text/plain": [
       "64"
      ]
     },
     "execution_count": 12,
     "metadata": {},
     "output_type": "execute_result"
    }
   ],
   "source": [
    "[erro, robot_RR_upper_motor] = sim.simxGetObjectHandle(clientID, \"RR_upper_leg_joint\",sim.simx_opmode_oneshot_wait)\n",
    "[erro, robot_RR_lower_motor] = sim.simxGetObjectHandle(clientID, \"RR_lower_leg_joint\", sim.simx_opmode_oneshot_wait)\n",
    "    \n",
    "[erro, robot_RL_upper_motor] = sim.simxGetObjectHandle(clientID, \"RL_upper_leg_joint\",sim.simx_opmode_oneshot_wait)\n",
    "[erro, robot_RL_lower_motor] = sim.simxGetObjectHandle(clientID, \"RL_lower_leg_joint\", sim.simx_opmode_oneshot_wait)\n",
    "\n",
    "[erro, robot_FR_upper_motor] = sim.simxGetObjectHandle(clientID, \"FR_upper_leg_joint\",sim.simx_opmode_oneshot_wait)\n",
    "[erro, robot_FR_lower_motor] = sim.simxGetObjectHandle(clientID, \"FR_lower_leg_joint\", sim.simx_opmode_oneshot_wait)\n",
    "\n",
    "[erro, robot_FL_upper_motor] = sim.simxGetObjectHandle(clientID, \"FL_upper_leg_joint\",sim.simx_opmode_oneshot_wait)\n",
    "[erro, robot_FL_lower_motor] = sim.simxGetObjectHandle(clientID, \"FL_lower_leg_joint\", sim.simx_opmode_oneshot_wait)\n",
    "\n",
    "sim.simxSetJointTargetVelocity(clientID, robot_RR_upper_motor, random.random()-0.5, sim.simx_opmode_oneshot)\n",
    "sim.simxSetJointTargetVelocity(clientID, robot_RR_lower_motor, random.random()-0.5, sim.simx_opmode_oneshot)\n",
    "\n",
    "sim.simxSetJointTargetVelocity(clientID, robot_RL_upper_motor, random.random()-0.5, sim.simx_opmode_oneshot)\n",
    "sim.simxSetJointTargetVelocity(clientID, robot_RL_lower_motor, random.random()-0.5, sim.simx_opmode_oneshot)\n",
    "\n",
    "sim.simxSetJointTargetVelocity(clientID, robot_FR_upper_motor, random.random()-0.5, sim.simx_opmode_oneshot)\n",
    "sim.simxSetJointTargetVelocity(clientID, robot_FR_lower_motor, random.random()-0.5, sim.simx_opmode_oneshot)\n",
    "\n",
    "sim.simxSetJointTargetVelocity(clientID, robot_FL_upper_motor, random.random()-0.5, sim.simx_opmode_oneshot)\n",
    "sim.simxSetJointTargetVelocity(clientID, robot_FL_lower_motor, random.random()-0.5, sim.simx_opmode_oneshot)\n"
   ]
  },
  {
   "cell_type": "code",
   "execution_count": 10,
   "metadata": {},
   "outputs": [
    {
     "name": "stdout",
     "output_type": "stream",
     "text": [
      "[0.0, 0.0, 0.0]\n"
     ]
    }
   ],
   "source": [
    "erro, distance_vector = sim.simxGetObjectPosition(clientID,robot,target,sim.simx_opmode_oneshot_wait)\n",
    "print(distance_vector)"
   ]
  },
  {
   "cell_type": "markdown",
   "metadata": {},
   "source": [
    "# Neural network\n",
    "\n",
    "### Inputs: \n",
    "Velocidades e posições das 8 juntas - 16 inputs\n",
    "\n",
    "## Outputs:\n",
    "Novas velocidades para cada uma das 8 juntas - 8 outputs"
   ]
  },
  {
   "cell_type": "markdown",
   "metadata": {},
   "source": []
  },
  {
   "cell_type": "markdown",
   "metadata": {},
   "source": [
    "for epoch in range epochs:\n",
    "\n",
    "    model.train()\n",
    "    y_pred = model(x_train)\n",
    "    loss = loss_fn(y_pred,y_train)\n",
    "    optimizer.zero_grad()\n",
    "    loss.backward()\n",
    "    optimizer.step()\n",
    "    model.eval()\n"
   ]
  },
  {
   "cell_type": "code",
   "execution_count": 5,
   "metadata": {},
   "outputs": [
    {
     "data": {
      "text/plain": [
       "PosixPath('models/nome_do_modelo.pth')"
      ]
     },
     "execution_count": 5,
     "metadata": {},
     "output_type": "execute_result"
    }
   ],
   "source": [
    "from pathlib import Path\n",
    "\n",
    "MODEL_PATH = Path(\"models\")\n",
    "MODEL_PATH.mkdir(parents=True,exist_ok=True)\n",
    "\n",
    "MODEL_NAME = \"nome_do_modelo.pth\"\n",
    "MODEL_SAVE_PATH = MODEL_PATH/MODEL_NAME\n",
    "\n",
    "print(f\"Saving model to: {MODEL_SAVE_PATH}\")\n",
    "torch.save(obj=model.state_dict(),f=MODEL_SAVE_PATH)"
   ]
  },
  {
   "cell_type": "code",
   "execution_count": 8,
   "metadata": {},
   "outputs": [],
   "source": [
    "import torch\n",
    "from torch import nn\n",
    "import matplotlib.pyplot as plt\n"
   ]
  },
  {
   "cell_type": "code",
   "execution_count": 9,
   "metadata": {},
   "outputs": [
    {
     "name": "stdout",
     "output_type": "stream",
     "text": [
      "Using device: cuda\n"
     ]
    }
   ],
   "source": [
    "device = \"cuda\" if torch.cuda.is_available() else \"cpu\"\n",
    "print(f\"Using device: {device}\")"
   ]
  },
  {
   "cell_type": "code",
   "execution_count": 19,
   "metadata": {},
   "outputs": [
    {
     "data": {
      "text/plain": [
       "(tensor([[0.0000],\n",
       "         [0.0200],\n",
       "         [0.0400],\n",
       "         [0.0600],\n",
       "         [0.0800],\n",
       "         [0.1000],\n",
       "         [0.1200],\n",
       "         [0.1400],\n",
       "         [0.1600],\n",
       "         [0.1800]]),\n",
       " tensor([[0.3000],\n",
       "         [0.3140],\n",
       "         [0.3280],\n",
       "         [0.3420],\n",
       "         [0.3560],\n",
       "         [0.3700],\n",
       "         [0.3840],\n",
       "         [0.3980],\n",
       "         [0.4120],\n",
       "         [0.4260]]))"
      ]
     },
     "execution_count": 19,
     "metadata": {},
     "output_type": "execute_result"
    }
   ],
   "source": [
    "weight = 0.7\n",
    "bias = 0.3\n",
    "\n",
    "start = 0\n",
    "end = 1\n",
    "step = 0.02\n",
    "\n",
    "x = torch.arange(start,end,step).unsqueeze(dim=1)\n",
    "y = weight*x+bias\n",
    "\n",
    "x[:10],y[:10]\n"
   ]
  },
  {
   "cell_type": "code",
   "execution_count": 20,
   "metadata": {},
   "outputs": [
    {
     "data": {
      "text/plain": [
       "40"
      ]
     },
     "execution_count": 20,
     "metadata": {},
     "output_type": "execute_result"
    }
   ],
   "source": [
    "#Split data\n",
    "train_split = int(0.8*len(x))\n",
    "x_train,y_train = x[:train_split],y[:train_split]\n",
    "x_test,y_test = x[train_split:],y[train_split:]"
   ]
  },
  {
   "cell_type": "code",
   "execution_count": 21,
   "metadata": {},
   "outputs": [],
   "source": [
    "def plot_predicitions(train_data = x_train,\n",
    "                      train_labels=y_train,\n",
    "                      test_data = x_test,\n",
    "                      test_labels = y_test,\n",
    "                      predictions = None):\n",
    "    plt.figure(figsize=(10,7))\n",
    "\n",
    "    plt.scatter(train_data,train_labels,c=\"b\",s=4,label=\"Training data\")\n",
    "    plt.scatter(test_data,test_labels,c=\"g\",s=4,label=\"Testing data\")\n",
    "\n",
    "    if predictions is not None:\n",
    "        plt.scatter(test_data,predictions,c=\"r\",s=4,label=\"Predictions\")\n",
    "    plt.legend(prop={\"size\":14})"
   ]
  },
  {
   "cell_type": "code",
   "execution_count": 25,
   "metadata": {},
   "outputs": [],
   "source": [
    "class LinearRegressionModelV0(nn.Module):\n",
    "    def __init__(self):\n",
    "        super().__init__()\n",
    "        self.linear_layer = nn.Linear(in_features=1,\n",
    "                                      out_features=1)\n",
    "    def forward(self,x:torch.Tensor) -> torch.Tensor:\n",
    "        return self.linear_layer(x)"
   ]
  },
  {
   "cell_type": "code",
   "execution_count": 26,
   "metadata": {},
   "outputs": [
    {
     "data": {
      "text/plain": [
       "(LinearRegressionModelV0(\n",
       "   (linear_layer): Linear(in_features=1, out_features=1, bias=True)\n",
       " ),\n",
       " OrderedDict([('linear_layer.weight', tensor([[0.7645]])),\n",
       "              ('linear_layer.bias', tensor([0.8300]))]))"
      ]
     },
     "execution_count": 26,
     "metadata": {},
     "output_type": "execute_result"
    }
   ],
   "source": [
    "torch.manual_seed(42)\n",
    "model_1 = LinearRegressionModelV0()\n",
    "model_1,model_1.state_dict()"
   ]
  },
  {
   "cell_type": "code",
   "execution_count": 1,
   "metadata": {},
   "outputs": [
    {
     "data": {
      "text/plain": [
       "array([0, 1, 2])"
      ]
     },
     "execution_count": 1,
     "metadata": {},
     "output_type": "execute_result"
    }
   ],
   "source": [
    "import numpy as np\n",
    "np.arange(0,0+3)"
   ]
  },
  {
   "cell_type": "code",
   "execution_count": 2,
   "metadata": {},
   "outputs": [
    {
     "data": {
      "text/plain": [
       "array([58, 99, 35, 55, 61, 29,  2, 10,  4, 16])"
      ]
     },
     "execution_count": 2,
     "metadata": {},
     "output_type": "execute_result"
    }
   ],
   "source": [
    "np.random.choice(100, 10, replace=False)"
   ]
  },
  {
   "cell_type": "code",
   "execution_count": 5,
   "metadata": {},
   "outputs": [
    {
     "name": "stdout",
     "output_type": "stream",
     "text": [
      "Tensor modificado:\n",
      " [[0.         0.         0.         ... 0.         0.         0.        ]\n",
      " [0.07348694 0.270696   0.58042041 ... 0.04785368 0.14602785 0.0344438 ]\n",
      " [0.         0.         0.         ... 0.         0.         0.        ]\n",
      " ...\n",
      " [0.58109919 0.77072447 0.69082275 ... 0.958781   0.97614551 0.50475656]\n",
      " [0.54673482 0.95409053 0.12827211 ... 0.53003334 0.27557144 0.34095304]\n",
      " [0.09063041 0.07766533 0.38603696 ... 0.78753368 0.94578352 0.4199863 ]]\n"
     ]
    }
   ],
   "source": [
    "import numpy as np\n",
    "import torch\n",
    "\n",
    "# Criando tensores de exemplo\n",
    "torch.manual_seed(42)\n",
    "tensor_100x24 = np.random.rand(100, 24)  # Exemplo com valores aleatórios\n",
    "tensor_100x1 = np.random.choice([False, True], size=(100, 1))  # Valores aleatórios True/False\n",
    "\n",
    "# Criando a linha de zeros\n",
    "linha_zeros = np.zeros((1, 24))\n",
    "\n",
    "# Modificando as linhas onde tensor_100x1 é True\n",
    "tensor_100x24[tensor_100x1.flatten()] = linha_zeros\n",
    "\n",
    "# Exibir resultados\n",
    "print(\"Tensor modificado:\\n\", tensor_100x24)"
   ]
  },
  {
   "cell_type": "code",
   "execution_count": 27,
   "metadata": {},
   "outputs": [
    {
     "name": "stdout",
     "output_type": "stream",
     "text": [
      "Q real antes mudança: tensor([[1., 2., 3., 4., 5., 6.],\n",
      "        [0., 1., 2., 3., 4., 5.]])\n",
      "Q real pós mudança: tensor([[ 1.0000, 20.0000, 20.0000,  4.0000, 20.0000,  6.0000],\n",
      "        [15.4000,  1.0000, 15.4000,  3.0000,  4.0000, 15.4000]])\n",
      "Action batch: tensor([[1, 2, 4],\n",
      "        [0, 2, 5]])\n",
      "Reward batch: tensor([[20],\n",
      "        [10]])\n",
      "Q eval: tensor([[1., 2., 3., 4., 5., 6.],\n",
      "        [0., 1., 2., 3., 4., 5.]])\n",
      "Q real: tensor([[ 1.0000, 20.0000, 20.0000,  4.0000, 20.0000,  6.0000],\n",
      "        [15.4000,  1.0000, 15.4000,  3.0000,  4.0000, 15.4000]])\n",
      "Terminal batch: tensor([ True, False])\n",
      "Q next: tensor([[ 0.,  0.,  0.,  0.,  0.,  0.],\n",
      "        [ 0.,  2.,  4.,  6.,  8., 10.]])\n",
      "Q next actions: tensor([[0, 2, 5],\n",
      "        [1, 3, 5]])\n",
      "Q next mean reward: tensor([0., 6.])\n",
      "q target: tensor([[20.0000],\n",
      "        [15.4000]])\n",
      "q_real atualizado:\n",
      " tensor([[ 1.0000, 20.0000, 20.0000,  4.0000, 20.0000,  6.0000],\n",
      "        [15.4000,  1.0000, 15.4000,  3.0000,  4.0000, 15.4000]])\n"
     ]
    }
   ],
   "source": [
    "import torch\n",
    "\n",
    "# Definição das variáveis\n",
    "action_batch = torch.tensor([[1, 2, 4], [0, 2, 5]])\n",
    "reward_batch = torch.tensor([[20], [10]])\n",
    "gamma = 0.9\n",
    "        \n",
    "q_eval = torch.tensor([[1, 2, 3, 4, 5, 6], [0, 1, 2, 3, 4, 5]],dtype=torch.float32)\n",
    "\n",
    "q_real = torch.clone(q_eval)\n",
    "\n",
    "q_next = torch.tensor([[2, 4, 6, 8, 10, 12], [0, 2, 4, 6, 8, 10]])\n",
    "terminal_batch = torch.tensor([True, False])\n",
    "\n",
    "# Corrigindo a substituição de valores em q_next\n",
    "linha_zeros = torch.zeros((1, 6),dtype=torch.long)  # Mudando para tensor PyTorch\n",
    "q_next[terminal_batch.flatten()] = linha_zeros\n",
    "\n",
    "q_next_actions = torch.tensor([[0, 2, 5], [1, 3, 5]])\n",
    "\n",
    "q_next = q_next.float()  # Converte para float\n",
    "q_next_mean_reward = torch.mean(torch.gather(q_next, 1, q_next_actions), dim=1)\n",
    "\n",
    "\n",
    "# Calculando o alvo de Q\n",
    "q_target = reward_batch + gamma * q_next_mean_reward.unsqueeze(1)  # Garantindo a forma correta\n",
    "\n",
    "# Corrigindo indexação\n",
    "rows = torch.arange(2).unsqueeze(1)  # Agora é um tensor PyTorch\n",
    "print(f\"Q real antes mudança: {q_real}\")\n",
    "q_real[rows, action_batch] = q_target\n",
    "print(f\"Q real pós mudança: {q_real}\")\n",
    "\n",
    "\n",
    "print(f\"Action batch: {action_batch}\")\n",
    "print(f\"Reward batch: {reward_batch}\")\n",
    "print(f\"Q eval: {q_eval}\")\n",
    "print(f\"Q real: {q_real}\")\n",
    "print(f\"Terminal batch: {terminal_batch}\")\n",
    "print(f\"Q next: {q_next}\")\n",
    "print(f\"Q next actions: {q_next_actions}\")\n",
    "print(f\"Q next mean reward: {q_next_mean_reward}\")\n",
    "print(f\"q target: {q_target}\")\n",
    "\n",
    "\n",
    "\n",
    "\n",
    "\n",
    "print(\"q_real atualizado:\\n\", q_real)\n"
   ]
  },
  {
   "cell_type": "code",
   "execution_count": 36,
   "metadata": {},
   "outputs": [
    {
     "name": "stdout",
     "output_type": "stream",
     "text": [
      "7\n"
     ]
    }
   ],
   "source": [
    "import torch\n",
    "\n",
    "tensor = torch.tensor([1, 2, 3, 2, 3, 4, 1, 5, 2])\n",
    "index = torch.argmax(tensor).item()\n",
    "print(index)\n"
   ]
  },
  {
   "cell_type": "code",
   "execution_count": 38,
   "metadata": {},
   "outputs": [
    {
     "name": "stdout",
     "output_type": "stream",
     "text": [
      "Numero passado: 2\n",
      "Numero passado: 0\n",
      "Numero passado: 1\n",
      "Numero passado: 1\n",
      "Numero passado: 0\n",
      "Numero passado: 0\n",
      "Numero passado: 1\n",
      "Numero passado: 0\n"
     ]
    }
   ],
   "source": [
    "import torch\n",
    "\n",
    "jointHandler = {\"j1\": 1,\n",
    "                 \"j2\": 2,\n",
    "                 \"j3\": 3,\n",
    "                 \"j4\": 4,\n",
    "                 \"j5\": 5,\n",
    "                 \"j6\": 6,\n",
    "                 \"j7\": 7,\n",
    "                 \"j8\": 8,}\n",
    "t = torch.tensor([ 2,  3,  7, 10, 12, 15, 19, 21])\n",
    "for joint_index, joint in enumerate(jointHandler.values()):\n",
    "        print(f\"Numero passado: {t[joint_index]-3*joint_index}\")\n",
    "\n",
    "\n",
    "\n"
   ]
  },
  {
   "cell_type": "code",
   "execution_count": 2,
   "metadata": {},
   "outputs": [
    {
     "name": "stdout",
     "output_type": "stream",
     "text": [
      "tensor([2.8685, 0.7801, 0.9707])\n"
     ]
    }
   ],
   "source": [
    "import torch\n",
    "\n",
    "test = torch.tensor([ 2.5200e+01, -6.5493e-01,  2.5751e-01, -1.4703e+00, -1.6603e+00,\n",
    "         6.7469e-01,  3.1171e+00,  5.3616e-01,  2.9093e-04,  5.9609e-01,\n",
    "        -1.4699e-03,  1.7188e+00, -6.5884e-01, -2.3517e+00, -2.2441e-01,\n",
    "         1.4108e+00, -2.3054e+00, -2.6023e-01,  2.8685e+00,  7.8008e-01,\n",
    "         9.7075e-01])\n",
    "\n",
    "group = test[18:21+3]\n",
    "\n",
    "print(group)"
   ]
  },
  {
   "cell_type": "code",
   "execution_count": 1,
   "metadata": {},
   "outputs": [
    {
     "data": {
      "text/plain": [
       "[0, 0, 0, 0, 0, 0, 0, 0, 0, 0, 0, 0, 0, 0, 0, 0, 0, 0, 0, 0, 0, 0, 0, 0]"
      ]
     },
     "execution_count": 1,
     "metadata": {},
     "output_type": "execute_result"
    }
   ],
   "source": [
    "[0]*24"
   ]
  },
  {
   "cell_type": "code",
   "execution_count": 4,
   "metadata": {},
   "outputs": [
    {
     "name": "stdout",
     "output_type": "stream",
     "text": [
      "tensor([0.2253, 0.5000, 0.6381, 0.8461, 0.5591, 0.3515, 0.6236, 0.2154, 0.0032,\n",
      "        0.2356, 0.3536, 0.1499, 0.7128, 0.7189, 0.4946, 0.5133, 0.3406, 0.4193,\n",
      "        0.9746, 0.1047, 0.9454, 0.9802, 0.4151, 0.7260])\n",
      "tensor([0.8461, 0.5591, 0.3515])\n",
      "tensor([2, 0, 0, 1, 1, 0, 0, 0])\n"
     ]
    }
   ],
   "source": [
    "import torch\n",
    "tensor = torch.rand(24)  # Números aleatórios entre 0 e 1\n",
    "print(tensor)\n",
    "# Reformulando o tensor para ter forma (8,3), ou seja, 8 grupos de 3 elementos\n",
    "\n",
    "\n",
    "tensor_reshaped = tensor.view(-1, 3)\n",
    "print(tensor_reshaped[1])\n",
    "# Pegando o índice do maior valor dentro de cada grupo\n",
    "max_indices = torch.argmax(tensor_reshaped, dim=1)\n",
    "print(max_indices)"
   ]
  },
  {
   "cell_type": "code",
   "execution_count": 2,
   "metadata": {},
   "outputs": [
    {
     "name": "stdout",
     "output_type": "stream",
     "text": [
      "0.14400000000000002\n",
      "0.162\n"
     ]
    }
   ],
   "source": [
    "t = 16*3.6\n",
    "o = 18*3.6\n",
    "d = 400\n",
    "temp = t/d\n",
    "temp2 = o/d\n",
    "\n",
    "print(temp)\n",
    "print(temp2)"
   ]
  },
  {
   "cell_type": "code",
   "execution_count": 2,
   "metadata": {},
   "outputs": [
    {
     "data": {
      "text/plain": [
       "array([0, 1, 2, 3, 4, 5, 6, 7, 8, 9])"
      ]
     },
     "execution_count": 2,
     "metadata": {},
     "output_type": "execute_result"
    }
   ],
   "source": [
    "import numpy as np\n",
    "\n",
    "np.arange(10)"
   ]
  },
  {
   "cell_type": "code",
   "execution_count": 19,
   "metadata": {},
   "outputs": [
    {
     "data": {
      "text/plain": [
       "array([25.   ,  0.   ,  0.348,  0.   ,  0.   ,  0.   ,  0.   ,  0.   ,\n",
       "        0.   ,  0.   ,  0.   ,  0.   ,  0.   ,  0.   ,  0.   ,  0.   ,\n",
       "        0.   ,  0.   ,  0.   ,  0.   ,  0.   ,  0.   ,  1.   ,  1.   ])"
      ]
     },
     "execution_count": 19,
     "metadata": {},
     "output_type": "execute_result"
    }
   ],
   "source": [
    "from SimulationControl import createSimulation\n",
    "sim = createSimulation(\"cpu\")\n",
    "sim.reset()"
   ]
  },
  {
   "cell_type": "code",
   "execution_count": 18,
   "metadata": {},
   "outputs": [
    {
     "ename": "ZMQError",
     "evalue": "Operation cannot be accomplished in current state",
     "output_type": "error",
     "traceback": [
      "\u001b[31m---------------------------------------------------------------------------\u001b[39m",
      "\u001b[31mZMQError\u001b[39m                                  Traceback (most recent call last)",
      "\u001b[36mCell\u001b[39m\u001b[36m \u001b[39m\u001b[32mIn[18]\u001b[39m\u001b[32m, line 2\u001b[39m\n\u001b[32m      1\u001b[39m \u001b[38;5;28;01mwhile\u001b[39;00m \u001b[38;5;28;01mTrue\u001b[39;00m:\n\u001b[32m----> \u001b[39m\u001b[32m2\u001b[39m     \u001b[43msim\u001b[49m\u001b[43m.\u001b[49m\u001b[43mstep\u001b[49m\u001b[43m(\u001b[49m\u001b[43m[\u001b[49m\u001b[32;43m2\u001b[39;49m\u001b[43m,\u001b[49m\u001b[32;43m0\u001b[39;49m\u001b[43m,\u001b[49m\u001b[32;43m0\u001b[39;49m\u001b[43m,\u001b[49m\u001b[32;43m0\u001b[39;49m\u001b[43m,\u001b[49m\u001b[32;43m0\u001b[39;49m\u001b[43m,\u001b[49m\u001b[32;43m0\u001b[39;49m\u001b[43m,\u001b[49m\u001b[32;43m0\u001b[39;49m\u001b[43m,\u001b[49m\u001b[32;43m0\u001b[39;49m\u001b[43m]\u001b[49m\u001b[43m)\u001b[49m\n",
      "\u001b[36mFile \u001b[39m\u001b[32m~/tg_proj/SimulationControl.py:45\u001b[39m, in \u001b[36menv.step\u001b[39m\u001b[34m(self, actions)\u001b[39m\n\u001b[32m     43\u001b[39m \u001b[38;5;28;01mfor\u001b[39;00m joint_index, jointName \u001b[38;5;129;01min\u001b[39;00m \u001b[38;5;28menumerate\u001b[39m(\u001b[38;5;28mself\u001b[39m.jointList):\n\u001b[32m     44\u001b[39m         joint = \u001b[38;5;28mself\u001b[39m.jointHandler[jointName]\n\u001b[32m---> \u001b[39m\u001b[32m45\u001b[39m         \u001b[38;5;28;43mself\u001b[39;49m\u001b[43m.\u001b[49m\u001b[43mtranslateAction\u001b[49m\u001b[43m(\u001b[49m\u001b[43maction\u001b[49m\u001b[43m \u001b[49m\u001b[43m=\u001b[49m\u001b[43m \u001b[49m\u001b[43mactions\u001b[49m\u001b[43m[\u001b[49m\u001b[43mjoint_index\u001b[49m\u001b[43m]\u001b[49m\u001b[43m,\u001b[49m\u001b[43m \u001b[49m\u001b[43mjoint\u001b[49m\u001b[43m \u001b[49m\u001b[43m=\u001b[49m\u001b[43m \u001b[49m\u001b[43mjoint\u001b[49m\u001b[43m)\u001b[49m\n\u001b[32m     46\u001b[39m \u001b[38;5;28mself\u001b[39m.sim.step()\n\u001b[32m     47\u001b[39m \u001b[38;5;28mself\u001b[39m.score+= \u001b[38;5;28mself\u001b[39m.getReward()\n",
      "\u001b[36mFile \u001b[39m\u001b[32m~/tg_proj/SimulationControl.py:80\u001b[39m, in \u001b[36menv.translateAction\u001b[39m\u001b[34m(self, action, joint)\u001b[39m\n\u001b[32m     78\u001b[39m     \u001b[38;5;28mself\u001b[39m.sim.setJointTargetVelocity(joint, \u001b[32m0\u001b[39m)\n\u001b[32m     79\u001b[39m \u001b[38;5;28;01mcase\u001b[39;00m \u001b[32m2\u001b[39m:\n\u001b[32m---> \u001b[39m\u001b[32m80\u001b[39m     \u001b[38;5;28;43mself\u001b[39;49m\u001b[43m.\u001b[49m\u001b[43msim\u001b[49m\u001b[43m.\u001b[49m\u001b[43msetJointTargetVelocity\u001b[49m\u001b[43m(\u001b[49m\u001b[43mjoint\u001b[49m\u001b[43m,\u001b[49m\u001b[43m \u001b[49m\u001b[43mmath\u001b[49m\u001b[43m.\u001b[49m\u001b[43mpi\u001b[49m\u001b[43m/\u001b[49m\u001b[32;43m3\u001b[39;49m\u001b[43m)\u001b[49m\n\u001b[32m     81\u001b[39m \u001b[38;5;28;01mcase\u001b[39;00m\u001b[38;5;250m \u001b[39m\u001b[38;5;28;01m_\u001b[39;00m:\n\u001b[32m     82\u001b[39m     \u001b[38;5;28;01mraise\u001b[39;00m \u001b[38;5;167;01mValueError\u001b[39;00m(\u001b[33mf\u001b[39m\u001b[33m\"\u001b[39m\u001b[33mNumero passado \u001b[39m\u001b[38;5;132;01m{\u001b[39;00maction\u001b[38;5;132;01m}\u001b[39;00m\u001b[33m para translate action não corresponde as ações\u001b[39m\u001b[33m\"\u001b[39m)\n",
      "\u001b[36mFile \u001b[39m\u001b[32m~/tg_proj/env/lib/python3.12/site-packages/coppeliasim_zmqremoteapi_client/__init__.py:174\u001b[39m, in \u001b[36mRemoteAPIClient.getObject.<locals>.<lambda>\u001b[39m\u001b[34m(func, *a)\u001b[39m\n\u001b[32m    172\u001b[39m     \u001b[38;5;28;01mraise\u001b[39;00m \u001b[38;5;167;01mValueError\u001b[39;00m(\u001b[33m'\u001b[39m\u001b[33mfound nondict\u001b[39m\u001b[33m'\u001b[39m)\n\u001b[32m    173\u001b[39m \u001b[38;5;28;01mif\u001b[39;00m \u001b[38;5;28mlen\u001b[39m(v) == \u001b[32m1\u001b[39m \u001b[38;5;129;01mand\u001b[39;00m \u001b[33m'\u001b[39m\u001b[33mfunc\u001b[39m\u001b[33m'\u001b[39m \u001b[38;5;129;01min\u001b[39;00m v:\n\u001b[32m--> \u001b[39m\u001b[32m174\u001b[39m     \u001b[38;5;28msetattr\u001b[39m(ret, k, \u001b[38;5;28;01mlambda\u001b[39;00m *a, func=\u001b[33mf\u001b[39m\u001b[33m'\u001b[39m\u001b[38;5;132;01m{\u001b[39;00mname\u001b[38;5;132;01m}\u001b[39;00m\u001b[33m.\u001b[39m\u001b[38;5;132;01m{\u001b[39;00mk\u001b[38;5;132;01m}\u001b[39;00m\u001b[33m'\u001b[39m: \u001b[38;5;28;43mself\u001b[39;49m\u001b[43m.\u001b[49m\u001b[43mcall\u001b[49m\u001b[43m(\u001b[49m\u001b[43mfunc\u001b[49m\u001b[43m,\u001b[49m\u001b[43m \u001b[49m\u001b[43ma\u001b[49m\u001b[43m)\u001b[49m)\n\u001b[32m    175\u001b[39m \u001b[38;5;28;01melif\u001b[39;00m \u001b[38;5;28mlen\u001b[39m(v) == \u001b[32m1\u001b[39m \u001b[38;5;129;01mand\u001b[39;00m \u001b[33m'\u001b[39m\u001b[33mconst\u001b[39m\u001b[33m'\u001b[39m \u001b[38;5;129;01min\u001b[39;00m v:\n\u001b[32m    176\u001b[39m     \u001b[38;5;28msetattr\u001b[39m(ret, k, v[\u001b[33m'\u001b[39m\u001b[33mconst\u001b[39m\u001b[33m'\u001b[39m])\n",
      "\u001b[36mFile \u001b[39m\u001b[32m~/tg_proj/env/lib/python3.12/site-packages/coppeliasim_zmqremoteapi_client/__init__.py:136\u001b[39m, in \u001b[36mRemoteAPIClient.call\u001b[39m\u001b[34m(self, func, args)\u001b[39m\n\u001b[32m    134\u001b[39m \u001b[38;5;28;01mdef\u001b[39;00m\u001b[38;5;250m \u001b[39m\u001b[34mcall\u001b[39m(\u001b[38;5;28mself\u001b[39m, func, args):\n\u001b[32m    135\u001b[39m     \u001b[38;5;66;03m# Call function with specified arguments. Is reentrant\u001b[39;00m\n\u001b[32m--> \u001b[39m\u001b[32m136\u001b[39m     \u001b[38;5;28;43mself\u001b[39;49m\u001b[43m.\u001b[49m\u001b[43m_send\u001b[49m\u001b[43m(\u001b[49m\u001b[43m{\u001b[49m\u001b[33;43m'\u001b[39;49m\u001b[33;43mfunc\u001b[39;49m\u001b[33;43m'\u001b[39;49m\u001b[43m:\u001b[49m\u001b[43m \u001b[49m\u001b[43mfunc\u001b[49m\u001b[43m,\u001b[49m\u001b[43m \u001b[49m\u001b[33;43m'\u001b[39;49m\u001b[33;43margs\u001b[39;49m\u001b[33;43m'\u001b[39;49m\u001b[43m:\u001b[49m\u001b[43m \u001b[49m\u001b[43margs\u001b[49m\u001b[43m}\u001b[49m\u001b[43m)\u001b[49m\n\u001b[32m    137\u001b[39m     reply = \u001b[38;5;28mself\u001b[39m._recv()\n\u001b[32m    138\u001b[39m     \u001b[38;5;28;01mwhile\u001b[39;00m \u001b[38;5;28misinstance\u001b[39m(reply, \u001b[38;5;28mdict\u001b[39m) \u001b[38;5;129;01mand\u001b[39;00m \u001b[33m'\u001b[39m\u001b[33mfunc\u001b[39m\u001b[33m'\u001b[39m \u001b[38;5;129;01min\u001b[39;00m reply:\n\u001b[32m    139\u001b[39m         \u001b[38;5;66;03m# We have a callback or a wait/repeat:\u001b[39;00m\n",
      "\u001b[36mFile \u001b[39m\u001b[32m~/tg_proj/env/lib/python3.12/site-packages/coppeliasim_zmqremoteapi_client/__init__.py:116\u001b[39m, in \u001b[36mRemoteAPIClient._send\u001b[39m\u001b[34m(self, req)\u001b[39m\n\u001b[32m    114\u001b[39m \u001b[38;5;28;01mif\u001b[39;00m \u001b[38;5;28mself\u001b[39m.verbose > \u001b[32m1\u001b[39m:\n\u001b[32m    115\u001b[39m     \u001b[38;5;28mprint\u001b[39m(\u001b[33mf\u001b[39m\u001b[33m'\u001b[39m\u001b[33mSending raw len=\u001b[39m\u001b[38;5;132;01m{\u001b[39;00m\u001b[38;5;28mlen\u001b[39m(rawReq)\u001b[38;5;132;01m}\u001b[39;00m\u001b[33m, base64=\u001b[39m\u001b[38;5;132;01m{\u001b[39;00mb64(rawReq)\u001b[38;5;132;01m}\u001b[39;00m\u001b[33m'\u001b[39m)\n\u001b[32m--> \u001b[39m\u001b[32m116\u001b[39m \u001b[38;5;28;43mself\u001b[39;49m\u001b[43m.\u001b[49m\u001b[43msocket\u001b[49m\u001b[43m.\u001b[49m\u001b[43msend\u001b[49m\u001b[43m(\u001b[49m\u001b[43mrawReq\u001b[49m\u001b[43m)\u001b[49m\n",
      "\u001b[36mFile \u001b[39m\u001b[32m~/tg_proj/env/lib/python3.12/site-packages/zmq/sugar/socket.py:707\u001b[39m, in \u001b[36mSocket.send\u001b[39m\u001b[34m(self, data, flags, copy, track, routing_id, group)\u001b[39m\n\u001b[32m    700\u001b[39m         data = zmq.Frame(\n\u001b[32m    701\u001b[39m             data,\n\u001b[32m    702\u001b[39m             track=track,\n\u001b[32m    703\u001b[39m             copy=copy \u001b[38;5;129;01mor\u001b[39;00m \u001b[38;5;28;01mNone\u001b[39;00m,\n\u001b[32m    704\u001b[39m             copy_threshold=\u001b[38;5;28mself\u001b[39m.copy_threshold,\n\u001b[32m    705\u001b[39m         )\n\u001b[32m    706\u001b[39m     data.group = group\n\u001b[32m--> \u001b[39m\u001b[32m707\u001b[39m \u001b[38;5;28;01mreturn\u001b[39;00m \u001b[38;5;28;43msuper\u001b[39;49m\u001b[43m(\u001b[49m\u001b[43m)\u001b[49m\u001b[43m.\u001b[49m\u001b[43msend\u001b[49m\u001b[43m(\u001b[49m\u001b[43mdata\u001b[49m\u001b[43m,\u001b[49m\u001b[43m \u001b[49m\u001b[43mflags\u001b[49m\u001b[43m=\u001b[49m\u001b[43mflags\u001b[49m\u001b[43m,\u001b[49m\u001b[43m \u001b[49m\u001b[43mcopy\u001b[49m\u001b[43m=\u001b[49m\u001b[43mcopy\u001b[49m\u001b[43m,\u001b[49m\u001b[43m \u001b[49m\u001b[43mtrack\u001b[49m\u001b[43m=\u001b[49m\u001b[43mtrack\u001b[49m\u001b[43m)\u001b[49m\n",
      "\u001b[36mFile \u001b[39m\u001b[32m_zmq.py:1092\u001b[39m, in \u001b[36mzmq.backend.cython._zmq.Socket.send\u001b[39m\u001b[34m()\u001b[39m\n",
      "\u001b[36mFile \u001b[39m\u001b[32m_zmq.py:1140\u001b[39m, in \u001b[36mzmq.backend.cython._zmq.Socket.send\u001b[39m\u001b[34m()\u001b[39m\n",
      "\u001b[36mFile \u001b[39m\u001b[32m_zmq.py:1344\u001b[39m, in \u001b[36mzmq.backend.cython._zmq._send_copy\u001b[39m\u001b[34m()\u001b[39m\n",
      "\u001b[36mFile \u001b[39m\u001b[32m_zmq.py:1339\u001b[39m, in \u001b[36mzmq.backend.cython._zmq._send_copy\u001b[39m\u001b[34m()\u001b[39m\n",
      "\u001b[36mFile \u001b[39m\u001b[32m_zmq.py:179\u001b[39m, in \u001b[36mzmq.backend.cython._zmq._check_rc\u001b[39m\u001b[34m()\u001b[39m\n",
      "\u001b[31mZMQError\u001b[39m: Operation cannot be accomplished in current state"
     ]
    }
   ],
   "source": [
    "while True:\n",
    "    sim.step([2,0,0,0,0,0,0,0])"
   ]
  },
  {
   "cell_type": "code",
   "execution_count": 51,
   "metadata": {},
   "outputs": [],
   "source": [
    "from coppeliasim_zmqremoteapi_client import *\n",
    "import math\n",
    "\n",
    "client = RemoteAPIClient()\n",
    "sim = client.require('sim')\n",
    "robot = sim.getObject('/Doggy/')\n",
    "sim.startSimulation()"
   ]
  },
  {
   "cell_type": "code",
   "execution_count": 8,
   "metadata": {},
   "outputs": [],
   "source": [
    "jointList = [\"RR_upper_leg_joint\",\n",
    "        \"RL_upper_leg_joint\",\n",
    "        \"FR_upper_leg_joint\",\n",
    "        \"FL_upper_leg_joint\",\n",
    "        \"RR_lower_leg_joint\",\n",
    "        \"RL_lower_leg_joint\",\n",
    "        \"FR_lower_leg_joint\",\n",
    "        \"FL_lower_leg_joint\"]\n",
    "\n",
    "handleDict: dict[str,int] = {}\n",
    "for name in jointList:\n",
    "    path = f\"/Doggy/{name}\"\n",
    "    handleDict[name] = sim.getObject(path)\n",
    "\n",
    "def translateAction(sim, action:int,joint):\n",
    "    match action:\n",
    "        case 0:\n",
    "            sim.setJointTargetVelocity(joint, -math.pi/3)\n",
    "        case 1:\n",
    "            sim.setJointTargetVelocity(joint, 0)\n",
    "        case 2:\n",
    "            sim.setJointTargetVelocity(joint, math.pi/3)\n",
    "        case _:\n",
    "            raise ValueError(f\"Numero passado {action} para translate action não corresponde as ações\")\n",
    "def step(actions):\n",
    "    for joint_index, jointName in enumerate(jointList):\n",
    "            joint = handleDict[jointName]\n",
    "            translateAction(sim,action = actions[joint_index], joint = joint)\n"
   ]
  },
  {
   "cell_type": "code",
   "execution_count": 62,
   "metadata": {},
   "outputs": [
    {
     "data": {
      "text/plain": [
       "[2.710918317204099e-20, -0.017453292519944447, -3.1241393610700556]"
      ]
     },
     "execution_count": 62,
     "metadata": {},
     "output_type": "execute_result"
    }
   ],
   "source": [
    "sim.getObjectOrientation(robot, -1)"
   ]
  },
  {
   "cell_type": "code",
   "execution_count": 28,
   "metadata": {},
   "outputs": [],
   "source": [
    "step([2,2,0,0,1,1,1,1])\n",
    "\n",
    "\n"
   ]
  },
  {
   "cell_type": "code",
   "execution_count": 82,
   "metadata": {},
   "outputs": [
    {
     "data": {
      "text/plain": [
       "0.7884897585732884"
      ]
     },
     "execution_count": 82,
     "metadata": {},
     "output_type": "execute_result"
    }
   ],
   "source": [
    "while True:\n",
    "    [vx, vy, vz], [wx, wy, wz] = sim.getObjectVelocity(robot)\n",
    "    print(vx)"
   ]
  },
  {
   "cell_type": "code",
   "execution_count": 108,
   "metadata": {},
   "outputs": [
    {
     "name": "stdout",
     "output_type": "stream",
     "text": [
      "1\n",
      "0.004062689210741297\n"
     ]
    }
   ],
   "source": [
    "error, joint_speed = sim.getObjectFloatParameter(91, sim.jointfloatparam_velocity)\n",
    "print(error)\n",
    "print(joint_speed)"
   ]
  },
  {
   "cell_type": "code",
   "execution_count": 113,
   "metadata": {},
   "outputs": [
    {
     "name": "stdout",
     "output_type": "stream",
     "text": [
      "11.849817985873894\n"
     ]
    }
   ],
   "source": [
    "disc = 0.99\n",
    "steps = 50\n",
    "r = 0.3\n",
    "\n",
    "curr_disc = 1\n",
    "final_value = 0\n",
    "for step in range(steps):\n",
    "    new_r = r * curr_disc  # Aplica o desconto à recompensa fixa\n",
    "    final_value += new_r\n",
    "    curr_disc *= disc  # Atualiza o fator de desconto\n",
    "\n",
    "print(final_value)\n"
   ]
  },
  {
   "cell_type": "code",
   "execution_count": 115,
   "metadata": {},
   "outputs": [
    {
     "name": "stdout",
     "output_type": "stream",
     "text": [
      "[0.36247492 0.33969742 0.44668573 0.36458338 0.30343132 0.47611303\n",
      " 0.36204021 0.33699068]\n"
     ]
    }
   ],
   "source": [
    "import numpy as np\n",
    "\n",
    "valores = [-1.0148, -1.0797, -0.8059, -1.0090, -1.1926, -0.7421, -1.0160, -1.0877]\n",
    "resultado = np.exp(valores)\n",
    "\n",
    "print(resultado)\n"
   ]
  },
  {
   "cell_type": "code",
   "execution_count": 117,
   "metadata": {},
   "outputs": [
    {
     "name": "stdout",
     "output_type": "stream",
     "text": [
      "[ 2.871297    2.34760812 -2.24036904  2.4682617   2.47193248]\n"
     ]
    }
   ],
   "source": [
    "import numpy as np\n",
    "\n",
    "a = np.array([0.9603, 0.9438, 1.0798, 0.9606, 0.9409])\n",
    "b = np.array([2.9900, 2.4874, -2.0748, 2.5695, 2.6272])\n",
    "\n",
    "result = a * b\n",
    "print(result)\n",
    "\n",
    "c = [ 2.8712,  2.3477, -2.2404,  2.4682,  2.4719]\n"
   ]
  },
  {
   "cell_type": "code",
   "execution_count": null,
   "metadata": {},
   "outputs": [],
   "source": []
  }
 ],
 "metadata": {
  "kernelspec": {
   "display_name": "env",
   "language": "python",
   "name": "python3"
  },
  "language_info": {
   "codemirror_mode": {
    "name": "ipython",
    "version": 3
   },
   "file_extension": ".py",
   "mimetype": "text/x-python",
   "name": "python",
   "nbconvert_exporter": "python",
   "pygments_lexer": "ipython3",
   "version": "3.12.3"
  }
 },
 "nbformat": 4,
 "nbformat_minor": 2
}
